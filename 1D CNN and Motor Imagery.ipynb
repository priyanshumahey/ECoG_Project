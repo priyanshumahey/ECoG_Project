{
 "cells": [
  {
   "cell_type": "markdown",
   "source": [
    "# Neuromatch Final Project"
   ],
   "metadata": {}
  },
  {
   "cell_type": "markdown",
   "source": [
    "---\r\n",
    "\r\n",
    "## Set-up"
   ],
   "metadata": {}
  },
  {
   "cell_type": "code",
   "execution_count": 34,
   "source": [
    "#imports\r\n",
    "import os, requests\r\n",
    "from matplotlib import rcParams\r\n",
    "from matplotlib import pyplot as plt\r\n",
    "from scipy import signal\r\n",
    "import numpy as np \r\n",
    "from nilearn import plotting  \r\n",
    "from nimare import utils\r\n",
    "from keras.models import Sequential\r\n",
    "from keras.layers.convolutional import Conv1D\r\n",
    "from keras.layers.convolutional import MaxPooling1D\r\n",
    "from keras.layers import GlobalAveragePooling1D\r\n",
    "from keras.layers import Dropout\r\n",
    "from keras.layers import Dense\r\n",
    "from keras.layers import Reshape\r\n",
    "from sklearn.preprocessing import StandardScaler\r\n",
    "from sklearn.linear_model import LogisticRegression\r\n",
    "from sklearn.model_selection import cross_val_score\r\n",
    "from sklearn.metrics import confusion_matrix\r\n",
    "\r\n",
    "#Setting some parameters for the graphs\r\n",
    "rcParams['figure.figsize'] = [20, 4]\r\n",
    "rcParams['font.size'] =15\r\n",
    "rcParams['axes.spines.top'] = False\r\n",
    "rcParams['axes.spines.right'] = False\r\n",
    "rcParams['figure.autolayout'] = True\r\n",
    "\r\n",
    "#Loading in the dataset\r\n",
    "fname = 'motor_imagery.npz'\r\n",
    "url = \"https://osf.io/ksqv8/download\"\r\n",
    "\r\n",
    "if not os.path.isfile(fname):\r\n",
    "    try:\r\n",
    "        r =requests.get(url)\r\n",
    "    except requests.ConnectionError:\r\n",
    "        print(\"Failed to download data\")\r\n",
    "    else:\r\n",
    "        if r.status_code != requests.codes.ok:\r\n",
    "            print(\"Failed to download data\")\r\n",
    "        else:\r\n",
    "            with open(fname, \"wb\") as fid:\r\n",
    "                fid.write(r.content)"
   ],
   "outputs": [],
   "metadata": {}
  },
  {
   "cell_type": "markdown",
   "source": [
    "---\r\n",
    "## Functions"
   ],
   "metadata": {}
  },
  {
   "cell_type": "code",
   "execution_count": null,
   "source": [
    "class process():\r\n",
    "    def __init__():\r\n",
    "        return\r\n",
    "\r\n",
    "    def preprocess(data):\r\n",
    "        V = data['V'].astype('float32')\r\n",
    "        b, a = signal.butter(3, [50], btype = 'high', fs=1000)\r\n",
    "        V = signal.filtfilt(b,a,V,0)\r\n",
    "        V = np.abs(V)**2\r\n",
    "        b, a = signal.butter(3, [10], btype = 'low', fs=1000)\r\n",
    "        V = signal.filtfilt(b,a,V,0)\r\n",
    "        V = V/V.mean(0)\r\n",
    "        return V\r\n",
    "\r\n",
    "class plots():\r\n",
    "    def __init__():\r\n",
    "        return\r\n",
    "\r\n",
    "    def singlechannel1(data, channel):\r\n",
    "        plt.figure(figsize=(20,10))\r\n",
    "        plt.plot(trange, data[:,channel])\r\n",
    "        plt.title('ch%d'%channel)\r\n",
    "        plt.xticks([0, 1000, 2000])\r\n",
    "        plt.ylim([0, 4])\r\n",
    "\r\n",
    "    def singlechannel2(data, data2, channel):\r\n",
    "        plt.figure(figsize=(20,10))\r\n",
    "        plt.plot(trange, data[:,channel])\r\n",
    "        plt.plot(trange, data2[:,channel])\r\n",
    "        plt.title('ch%d'%channel)\r\n",
    "        plt.xticks([0, 1000, 2000])\r\n",
    "        plt.ylim([0, 4])\r\n",
    "\r\n",
    "    def all_channels1(data):\r\n",
    "        plt.figure(figsize=(20,10))\r\n",
    "        for j in range(46):\r\n",
    "            ax = plt.subplot(5,10,j+1)\r\n",
    "            plt.plot(trange, data[:,j])\r\n",
    "            plt.title('ch%d'%j)\r\n",
    "            plt.xticks([0, 1000, 2000])\r\n",
    "            plt.ylim([0, 4])\r\n",
    "\r\n",
    "    def all_channels2(data, data2):\r\n",
    "        plt.figure(figsize=(20,10))\r\n",
    "        for j in range(46):\r\n",
    "            ax = plt.subplot(5,10,j+1)\r\n",
    "            plt.plot(trange, data[:,j])\r\n",
    "            plt.plot(trange, data2[:,j])\r\n",
    "            plt.title('ch%d'%j)\r\n",
    "            plt.xticks([0, 1000, 2000])\r\n",
    "            plt.ylim([0, 4])"
   ],
   "outputs": [],
   "metadata": {}
  },
  {
   "cell_type": "markdown",
   "source": [
    "---\r\n",
    "## The Data We'll Work With"
   ],
   "metadata": {}
  },
  {
   "cell_type": "code",
   "execution_count": null,
   "source": [
    "alldat = np.load(fname, allow_pickle=True)['dat']\r\n",
    "\r\n",
    "real = alldat[0][0]\r\n",
    "imagine = alldat[0][1]\r\n"
   ],
   "outputs": [],
   "metadata": {}
  },
  {
   "cell_type": "code",
   "execution_count": null,
   "source": [
    "processed_real = process.preprocess(real)\r\n",
    "nt_pr, nchan_pr = processed_real.shape\r\n",
    "nstim_r = len(real['t_on'])\r\n",
    "\r\n",
    "trange = np.arange(0, 2000)\r\n",
    "ts = real['t_on'][:,np.newaxis] + trange\r\n",
    "\r\n",
    "V_epochs_pr = np.reshape(processed_real[ts, :], (nstim_r, 2000, nchan_pr))\r\n",
    "\r\n",
    "V_hand_real = (V_epochs_pr[real['stim_id']==12])  #Change this to 11 to get tongue data and 12 to get hand data\r\n",
    "\r\n",
    "\r\n",
    "##### This is the voltage data and you could change the trial from here\r\n",
    "hand_real_data = V_hand_real.mean(0)\r\n",
    "\r\n",
    "\r\n",
    "\r\n",
    "\r\n",
    "\r\n",
    "processed_imagine = process.preprocess(imagine)\r\n",
    "nt_pi, nchan_pi = processed_imagine.shape\r\n",
    "nstim_i = len(imagine['t_on'])\r\n",
    "\r\n",
    "trange = np.arange(0, 2000)\r\n",
    "ts = imagine['t_on'][:,np.newaxis] + trange\r\n",
    "\r\n",
    "V_epochs_pi = np.reshape(processed_imagine[ts, :], (nstim_i, 2000, nchan_pi))\r\n",
    "\r\n",
    "V_hand_imagine = (V_epochs_pi[imagine['stim_id']==12])\r\n",
    "\r\n",
    "\r\n",
    "\r\n",
    "##### This is the voltage data and you could change the trial from here\r\n",
    "hand_imagine_data = V_hand_imagine.mean(0)"
   ],
   "outputs": [],
   "metadata": {}
  },
  {
   "cell_type": "markdown",
   "source": [
    "---\r\n",
    "## The Graphs"
   ],
   "metadata": {}
  },
  {
   "cell_type": "code",
   "execution_count": null,
   "source": [
    "plots.all_channels2(hand_real_data, hand_imagine_data)\r\n",
    "plots.singlechannel1(hand_real_data, 13)\r\n",
    "plots.singlechannel2(hand_real_data, hand_imagine_data, 1)"
   ],
   "outputs": [],
   "metadata": {}
  },
  {
   "cell_type": "markdown",
   "source": [
    "---\r\n",
    "\r\n",
    "## The heatmaps"
   ],
   "metadata": {}
  },
  {
   "cell_type": "code",
   "execution_count": null,
   "source": [
    "#This is the data being put into the map\r\n",
    "#data =  hand_real_data - hand_imagine_data \r\n",
    "data = hand_real_data\r\n",
    "#data = hand_imagine_data\r\n",
    "#data = hand_imagine_data - hand_real_data\r\n",
    "\r\n",
    "\r\n",
    "#This is the time you want to see the data for\r\n",
    "time = 1000\r\n",
    "\r\n",
    "\r\n",
    "channels = []\r\n",
    "size = []\r\n",
    "\r\n",
    "for i in range(46):\r\n",
    "    channels.append(data[:,i])\r\n",
    "\r\n",
    "for i in range(46):\r\n",
    "    size.append(channels[i][time] * 22  * np.sqrt(channels[i][time]))\r\n",
    "\r\n",
    "plt.figure(figsize=(8,8))\r\n",
    "locs = real['locs']\r\n",
    "view = plotting.view_markers(utils.tal2mni(locs), marker_labels  = ['%d'%k for k in np.arange(locs.shape[0])], marker_color = 'red', marker_size=size)\r\n",
    "view"
   ],
   "outputs": [],
   "metadata": {}
  },
  {
   "cell_type": "code",
   "execution_count": null,
   "source": [
    "#This is the data being put into the map\r\n",
    "data =  hand_real_data - hand_imagine_data \r\n",
    "#data = hand_real_data\r\n",
    "#data = hand_imagine_data\r\n",
    "#data = hand_imagine_data - hand_real_data\r\n",
    "\r\n",
    "\r\n",
    "#This is the time you want to see the data for\r\n",
    "time = 1000\r\n",
    "\r\n",
    "\r\n",
    "channels = []\r\n",
    "size = []\r\n",
    "\r\n",
    "for i in range(46):\r\n",
    "    channels.append(data[:,i])\r\n",
    "\r\n",
    "for i in range(46):\r\n",
    "    size.append(channels[i][time] * 22  * np.sqrt(channels[i][time]))\r\n",
    "\r\n",
    "plt.figure(figsize=(8,8))\r\n",
    "locs = real['locs']\r\n",
    "view = plotting.view_markers(utils.tal2mni(locs), marker_labels  = ['%d'%k for k in np.arange(locs.shape[0])], marker_color = 'red', marker_size=size)\r\n",
    "view"
   ],
   "outputs": [],
   "metadata": {}
  },
  {
   "cell_type": "code",
   "execution_count": null,
   "source": [
    "#Change the number to different channels to see the Brodmann's area at that electrode\r\n",
    "real['Brodmann_Area'][12]"
   ],
   "outputs": [],
   "metadata": {}
  },
  {
   "cell_type": "markdown",
   "source": [
    "---\r\n",
    "## Logistic Regression"
   ],
   "metadata": {}
  },
  {
   "cell_type": "code",
   "execution_count": 27,
   "source": [
    "\r\n",
    "X=[]\r\n",
    "for j in range(46):\r\n",
    "  X.append(hand_real_data[:,j])\r\n",
    "  X.append(hand_imagine_data[:,j])\r\n",
    "X=np.array(X)\r\n",
    "\r\n",
    "#real=0 imaginary=1\r\n",
    "y=[]\r\n",
    "for j in range(46):\r\n",
    "  y.append(0)\r\n",
    "  y.append(1)\r\n",
    "y=np.array(y)"
   ],
   "outputs": [],
   "metadata": {}
  },
  {
   "cell_type": "code",
   "execution_count": 28,
   "source": [
    "# Define the model\r\n",
    "log_reg = LogisticRegression(penalty=\"none\")\r\n",
    "accuracies = cross_val_score(LogisticRegression(penalty='none'), X, y, cv=8) # k=8 crossvalidation\r\n",
    "print(accuracies)\r\n",
    "accuracies.mean()\r\n",
    "print(accuracies.mean())\r\n",
    "\r\n",
    "# Fit it to data\r\n",
    "log_reg.fit(X[0:60], y[0:60])\r\n",
    "\r\n",
    "y_pred = log_reg.predict(X[60:92])\r\n",
    "print(y_pred)"
   ],
   "outputs": [
    {
     "output_type": "stream",
     "name": "stdout",
     "text": [
      "[1.         0.91666667 0.83333333 0.66666667 0.90909091 0.90909091\n",
      " 1.         0.72727273]\n",
      "0.8702651515151515\n",
      "[0 0 0 1 0 1 0 1 0 1 0 1 0 1 0 1 0 1 0 1 0 1 0 0 0 1 0 1 1 1 1 1]\n"
     ]
    }
   ],
   "metadata": {}
  },
  {
   "cell_type": "code",
   "execution_count": 31,
   "source": [
    "def compute_accuracy(X, y, model):\r\n",
    "  y_pred = model.predict(X)\r\n",
    "  accuracy = (y == y_pred).mean()\r\n",
    "  return accuracy\r\n",
    "\r\n",
    "# Compute training accuracy\r\n",
    "train_accuracy = compute_accuracy(X, y, log_reg)\r\n",
    "print(f\"Accuracy on the training data: {train_accuracy:.2%}\")"
   ],
   "outputs": [
    {
     "output_type": "stream",
     "name": "stdout",
     "text": [
      "Accuracy on the training data: 95.65%\n"
     ]
    }
   ],
   "metadata": {}
  },
  {
   "cell_type": "code",
   "execution_count": 36,
   "source": [
    "confusion = [[0.75,0.34],[0.12,0.98]]\r\n",
    "y_true = y[60:92]\r\n",
    "y_pred = y_pred\r\n",
    "tn, fp, fn, tp = confusion_matrix(y_true, y_pred).ravel()\r\n",
    "\r\n",
    "#confusion = [[0.75,0.34],[0.12,0.98]]\r\n",
    "fig, ax = plt.subplots(1,1)\r\n",
    "ax.imshow(confusion,cmap='Blues',clim=[0,16])\r\n",
    "plt.text(0,0,str(tn))\r\n",
    "plt.text(0,1,str(fp))\r\n",
    "plt.text(1,0,str(fn))\r\n",
    "plt.text(1,1,str(tp))\r\n",
    "x_label_list = ['Actual Positive','Actual Negative']\r\n",
    "ax.set_xticks([0,1])\r\n",
    "ax.set_xticklabels(x_label_list)\r\n",
    "y_label_list = ['Predicted Positive','Predicted Negative']\r\n",
    "ax.set_yticks([0,1])\r\n",
    "ax.set_yticklabels(y_label_list)\r\n",
    "plt.show()\r\n",
    "\r\n",
    "#bottom left is False Negative\r\n",
    "#top right is False Positive"
   ],
   "outputs": [
    {
     "output_type": "display_data",
     "data": {
      "text/plain": [
       "<Figure size 1440x288 with 1 Axes>"
      ],
      "image/png": "[encoded data removed]"
     },
     "metadata": {
      "needs_background": "light"
     }
    }
   ],
   "metadata": {}
  },
  {
   "cell_type": "code",
   "execution_count": 37,
   "source": [
    "f, ax = plt.subplots(figsize=(8, 3))\r\n",
    "ax.boxplot(accuracies, vert=False, widths=.7)\r\n",
    "ax.scatter(accuracies, np.ones(8))\r\n",
    "ax.set(\r\n",
    "  xlabel=\"Accuracy\",\r\n",
    "  yticks=[],\r\n",
    "  title=f\"Average test accuracy: {accuracies.mean():.2%}\"\r\n",
    ")\r\n",
    "ax.spines[\"left\"].set_visible(False)"
   ],
   "outputs": [
    {
     "output_type": "display_data",
     "data": {
      "text/plain": [
       "<Figure size 576x216 with 1 Axes>"
      ],
      "image/png": "[encoded data removed]"
     },
     "metadata": {
      "needs_background": "light"
     }
    }
   ],
   "metadata": {}
  },
  {
   "cell_type": "code",
   "execution_count": 38,
   "source": [
    "def plot_weights(models, sharey=True):\r\n",
    "  \"\"\"Draw a stem plot of weights for each model in models dict.\"\"\"\r\n",
    "  n = len(models)\r\n",
    "  f = plt.figure(figsize=(10, 2.5 * n))\r\n",
    "  axs = f.subplots(n, sharex=True, sharey=sharey)\r\n",
    "  axs = np.atleast_1d(axs)\r\n",
    "\r\n",
    "  for ax, (title, model) in zip(axs, models.items()):\r\n",
    "\r\n",
    "    ax.margins(x=.02)\r\n",
    "    stem = ax.stem(model.coef_.squeeze(), use_line_collection=True)\r\n",
    "    stem[0].set_marker(\".\")\r\n",
    "    stem[0].set_color(\".2\")\r\n",
    "    stem[1].set_linewidths(.5)\r\n",
    "    stem[1].set_color(\".2\")\r\n",
    "    stem[2].set_visible(False)\r\n",
    "    ax.axhline(0, color=\"C3\", lw=3)\r\n",
    "    ax.set(ylabel=\"Weight\", title=title)\r\n",
    "  ax.set(xlabel=\"Time (a.k.a. feature)\")\r\n",
    "  f.tight_layout()\r\n",
    "\r\n",
    "def plot_function(f, name, var, points=(-10, 10)):\r\n",
    "    \"\"\"Evaluate f() on linear space between points and plot.\r\n",
    "\r\n",
    "    Args:\r\n",
    "      f (callable): function that maps scalar -> scalar\r\n",
    "      name (string): Function name for axis labels\r\n",
    "      var (string): Variable name for axis labels.\r\n",
    "      points (tuple): Args for np.linspace to create eval grid.\r\n",
    "    \"\"\"\r\n",
    "    x = np.linspace(*points)\r\n",
    "    ax = plt.figure().subplots()\r\n",
    "    ax.plot(x, f(x))\r\n",
    "    ax.set(\r\n",
    "      xlabel=f'${var}$',\r\n",
    "      ylabel=f'${name}({var})$'\r\n",
    "    )\r\n",
    "\r\n",
    "\r\n",
    "def plot_model_selection(C_values, accuracies):\r\n",
    "  \"\"\"Plot the accuracy curve over log-spaced C values.\"\"\"\r\n",
    "  ax = plt.figure().subplots()\r\n",
    "  ax.set_xscale(\"log\")\r\n",
    "  ax.plot(C_values, accuracies, marker=\"o\")\r\n",
    "  best_C = C_values[np.argmax(accuracies)]\r\n",
    "  ax.set(\r\n",
    "      xticks=C_values,\r\n",
    "      xlabel=\"$C$\",\r\n",
    "      ylabel=\"Cross-validated accuracy\",\r\n",
    "      title=f\"Best C: {best_C:1g} ({np.max(accuracies):.2%})\",\r\n",
    "  )\r\n",
    "\r\n",
    "def plot_non_zero_coefs(C_values, non_zero_l1, n_voxels):\r\n",
    "  \"\"\"Plot the accuracy curve over log-spaced C values.\"\"\"\r\n",
    "  ax = plt.figure().subplots()\r\n",
    "  ax.set_xscale(\"log\")\r\n",
    "  ax.plot(C_values, non_zero_l1, marker=\"o\")\r\n",
    "  ax.set(\r\n",
    "    xticks=C_values,\r\n",
    "    xlabel=\"$C$\",\r\n",
    "    ylabel=\"Number of non-zero coefficients\",\r\n",
    "  )\r\n",
    "  ax.axhline(n_voxels, color=\".1\", linestyle=\":\")\r\n",
    "  ax.annotate(\"Total\\n# Time steps\", (C_values[0], n_voxels * .98), va=\"top\")"
   ],
   "outputs": [],
   "metadata": {}
  },
  {
   "cell_type": "code",
   "execution_count": 39,
   "source": [
    "log_reg = LogisticRegression(penalty=\"none\").fit(X, y)\r\n",
    "plot_weights({\"No regularization\": log_reg})\r\n"
   ],
   "outputs": [
    {
     "output_type": "display_data",
     "data": {
      "text/plain": [
       "<Figure size 720x180 with 1 Axes>"
      ],
      "image/png": "[encoded data removed]"
     },
     "metadata": {
      "needs_background": "light"
     }
    }
   ],
   "metadata": {}
  },
  {
   "cell_type": "markdown",
   "source": [
    "---\r\n",
    "\r\n",
    "## CNN"
   ],
   "metadata": {}
  },
  {
   "cell_type": "code",
   "execution_count": null,
   "source": [
    "#The dataset\r\n",
    "specify_channel = 20\r\n",
    "\r\n",
    "cnn_inputs_real = []\r\n",
    "for i in range(30):\r\n",
    "    abc = V_hand_real[i]\r\n",
    "    cnn_inputs_real.append(abc[:, specify_channel])\r\n",
    "#cnn_inputs_real is for real data. 1 is the label for real\r\n",
    "cnn_inputs_real = np.array(cnn_inputs_real)\r\n",
    "labels_real = np.ones((30))\r\n",
    "labels_real = labels_real.reshape(30,1)\r\n",
    "\r\n",
    "\r\n",
    "cnn_inputs_imagine = []\r\n",
    "for i in range(30):\r\n",
    "    abc = V_hand_imagine[i]\r\n",
    "    cnn_inputs_imagine.append(abc[:, specify_channel])\r\n",
    "#cnn_inputs_imagine is for imaginary data. 0 is the label for imaginary\r\n",
    "cnn_inputs_imagine = np.array(cnn_inputs_imagine)\r\n",
    "labels_imagine = np.zeros((30))\r\n",
    "labels_imagine = labels_imagine.reshape(30,1) \r\n",
    "\r\n",
    "\r\n",
    "trainX = np.append(cnn_inputs_real[0:20], cnn_inputs_imagine[0:20], axis=0)\r\n",
    "trainy = np.append(labels_real[0:20], labels_imagine[0:20], axis=0)\r\n",
    "\r\n",
    "trainX = trainX.reshape([40,2000,1])\r\n",
    "\r\n",
    "testX = np.append(cnn_inputs_real[20:30], cnn_inputs_imagine[20:30], axis=0)\r\n",
    "testy = np.append(labels_real[20:30], labels_imagine[20:30], axis=0)\r\n",
    "testX = testX.reshape([20,2000,1])\r\n"
   ],
   "outputs": [],
   "metadata": {}
  },
  {
   "cell_type": "code",
   "execution_count": null,
   "source": [
    "#old CNN\r\n",
    "def CNN(trainX, trainy, testX, testy):\r\n",
    "    n_timesteps, n_features, n_outputs = trainX.shape[1], trainX.shape[2], trainy.shape[1]\r\n",
    "    verbose = 1\r\n",
    "    epochs = 200\r\n",
    "    batch_size = 40\r\n",
    "    model = Sequential()\r\n",
    "    model.add(Conv1D(filters=100, kernel_size=50, activation='relu', input_shape=(n_timesteps,n_features)))\r\n",
    "    #model.add(Conv1D(filters=100, kernel_size=100, activation='relu'))\r\n",
    "    #model.add(MaxPooling1D())\r\n",
    "    #model.add(Conv1D(filters=100, kernel_size=40, activation='sigmoid'))\r\n",
    "    model.add(GlobalAveragePooling1D())\r\n",
    "    model.add(Dropout(0.05))\r\n",
    "    model.add(Dense(n_outputs, activation='relu'))\r\n",
    "    model.compile(loss='categorical_crossentropy', optimizer='adam', metrics=['accuracy'])\r\n",
    "    accuracy = model.fit(trainX, trainy, epochs=epochs, batch_size=batch_size, verbose=verbose)\r\n",
    "    return accuracy"
   ],
   "outputs": [],
   "metadata": {}
  },
  {
   "cell_type": "code",
   "execution_count": null,
   "source": [
    "#Final CNN Model\r\n",
    "n_timesteps, n_features, n_outputs = trainX.shape[1], trainX.shape[2], trainy.shape[1]\r\n",
    "verbose = 1\r\n",
    "epochs = 200\r\n",
    "batch_size = 40\r\n",
    "model = Sequential()\r\n",
    "model.add(Conv1D(filters=75, kernel_size=45, activation='relu', input_shape=(n_timesteps,n_features)))\r\n",
    "model.add(Conv1D(filters=75, kernel_size=30, activation='relu'))\r\n",
    "model.add(GlobalAveragePooling1D())\r\n",
    "model.add(Dropout(0.003))\r\n",
    "model.add(Dense(n_outputs, activation='sigmoid'))\r\n",
    "model.compile(loss='binary_crossentropy', optimizer='adam', metrics=['accuracy'])\r\n",
    "historyyy = model.fit(trainX, trainy, epochs=epochs, batch_size=batch_size, verbose=verbose,validation_data=(testX, testy))"
   ],
   "outputs": [],
   "metadata": {}
  },
  {
   "cell_type": "code",
   "execution_count": null,
   "source": [
    "plt.plot(historyyy.history['accuracy'])\r\n",
    "plt.plot(historyyy.history['loss'])\r\n",
    "plt.show()\r\n",
    "plt.plot(historyyy.history['val_accuracy'])\r\n",
    "plt.plot(historyyy.history['val_loss'])\r\n",
    "plt.show()"
   ],
   "outputs": [],
   "metadata": {}
  },
  {
   "cell_type": "code",
   "execution_count": null,
   "source": [
    "CNN(trainX, trainy, testX, testy)"
   ],
   "outputs": [],
   "metadata": {}
  }
 ],
 "metadata": {
  "orig_nbformat": 4,
  "language_info": {
   "name": "python",
   "version": "3.9.0",
   "mimetype": "text/x-python",
   "codemirror_mode": {
    "name": "ipython",
    "version": 3
   },
   "pygments_lexer": "ipython3",
   "nbconvert_exporter": "python",
   "file_extension": ".py"
  },
  "kernelspec": {
   "name": "python3",
   "display_name": "Python 3.9.0 64-bit"
  },
  "interpreter": {
   "hash": "63fd5069d213b44bf678585dea6b12cceca9941eaf7f819626cde1f2670de90d"
  }
 },
 "nbformat": 4,
 "nbformat_minor": 2
}